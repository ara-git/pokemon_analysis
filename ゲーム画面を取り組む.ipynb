{
 "cells": [
  {
   "cell_type": "code",
   "execution_count": 1,
   "metadata": {},
   "outputs": [],
   "source": [
    "import cv2\n",
    "import datetime\n",
    "import time\n",
    "from pathlib import Path"
   ]
  },
  {
   "cell_type": "code",
   "execution_count": 2,
   "metadata": {},
   "outputs": [],
   "source": [
    "#ディレクトリの変更\n",
    "import os\n",
    "os.chdir(r\"C:\\Users\\ara-d\\pokemon_analisis\")"
   ]
  },
  {
   "cell_type": "code",
   "execution_count": 3,
   "metadata": {},
   "outputs": [],
   "source": [
    "from pywinauto.application import Application"
   ]
  },
  {
   "cell_type": "code",
   "execution_count": 4,
   "metadata": {},
   "outputs": [],
   "source": [
    "#参考：「[Python]マルチモニター環境でのウィンドウキャプチャ」\n",
    "#https://qiita.com/danupo/items/e196e0e07e704796cd42\n",
    "import win32gui\n",
    "import win32ui\n",
    "import win32con\n",
    "import numpy as np\n",
    "import cv2\n",
    "\n",
    "##アクティブなウィンドウを探して画像配列（numpy array)を返す様な関数を作る\n",
    "def WindowCapture(window_name: str, bgr2rgb: bool = False):\n",
    "    # 現在アクティブなウィンドウ名を探す\n",
    "    process_list = []\n",
    "\n",
    "    def callback(handle, _):\n",
    "        process_list.append(win32gui.GetWindowText(handle))\n",
    "    win32gui.EnumWindows(callback, None)\n",
    "\n",
    "    #print(process_list)\n",
    "\n",
    "    # ターゲットウィンドウ名を探す\n",
    "    for process_name in process_list:\n",
    "        if window_name in process_name:\n",
    "            hnd = win32gui.FindWindow(None, process_name)\n",
    "            #print(\"found\") #見つかったら出力\n",
    "            break\n",
    "    else:\n",
    "        # 見つからなかったら画面全体を取得\n",
    "        #print(\"not found\") #見つからなかったら出力\n",
    "        hnd = win32gui.GetDesktopWindow()\n",
    "\n",
    "    # ウィンドウサイズ取得\n",
    "    x0, y0, x1, y1 = win32gui.GetWindowRect(hnd)\n",
    "    width = x1 - x0\n",
    "    height = y1 - y0\n",
    "    # ウィンドウのデバイスコンテキスト取得\n",
    "    windc = win32gui.GetWindowDC(hnd)\n",
    "    srcdc = win32ui.CreateDCFromHandle(windc)\n",
    "    memdc = srcdc.CreateCompatibleDC()\n",
    "    # デバイスコンテキストからピクセル情報コピー, bmp化\n",
    "    bmp = win32ui.CreateBitmap()\n",
    "    bmp.CreateCompatibleBitmap(srcdc, width, height)\n",
    "    memdc.SelectObject(bmp)\n",
    "    memdc.BitBlt((0, 0), (width, height), srcdc, (0, 0), win32con.SRCCOPY)\n",
    "\n",
    "    # bmpの書き出し\n",
    "    if bgr2rgb is True:\n",
    "        img = np.frombuffer(bmp.GetBitmapBits(True), np.uint8).reshape(height, width, 4)\n",
    "        img = cv2.cvtColor(img, cv2.COLOR_bgr2rgb)\n",
    "    else:\n",
    "        img = np.fromstring(bmp.GetBitmapBits(True), np.uint8).reshape(height, width, 4)\n",
    "\n",
    "    # 後片付け\n",
    "    # srcdc.DeleteDC()\n",
    "    memdc.DeleteDC()\n",
    "    # win32gui.ReleaseDC(hnd, windc)\n",
    "    win32gui.DeleteObject(bmp.GetHandle())\n",
    "\n",
    "    return img"
   ]
  },
  {
   "cell_type": "code",
   "execution_count": 53,
   "metadata": {},
   "outputs": [
    {
     "name": "stderr",
     "output_type": "stream",
     "text": [
      "C:\\Users\\Public\\Documents\\Wondershare\\CreatorTemp/ipykernel_7728/2713382240.py:50: DeprecationWarning: The binary mode of fromstring is deprecated, as it behaves surprisingly on unicode inputs. Use frombuffer instead\n",
      "  img = np.fromstring(bmp.GetBitmapBits(True), np.uint8).reshape(height, width, 4)\n"
     ]
    }
   ],
   "source": [
    "#画像をとりあえずキャプチャする（全体）\n",
    "img = WindowCapture(\"PotPlayer\")"
   ]
  },
  {
   "cell_type": "code",
   "execution_count": 54,
   "metadata": {},
   "outputs": [],
   "source": [
    "##############ここは一回だけでいい###################\n",
    "'''\n",
    "#\"Select Time\"だけ切り取る\n",
    "##やってみる\n",
    "Select = img[0:80,0:400]\n",
    "cv2.imshow(\"\",Select)\n",
    "cv2.waitKey(0)\n",
    "cv2.destroyAllWindows()\n",
    "\n",
    "##画像データを保存\n",
    "np.save(\n",
    "    \"imgdata\" + \"_\" + \"SelectTime\",  # ファイル名\n",
    "    Select # 保存したいオブジェクト\n",
    ")\n",
    "'''"
   ]
  },
  {
   "cell_type": "code",
   "execution_count": 56,
   "metadata": {},
   "outputs": [],
   "source": [
    "#保存していた\"SelectTime\"データを解凍する。\n",
    "SelectTime = np.load(file=\"imgdata_SelectTime.npy\")\n",
    "cv2.imshow(\"\",SelectTime)\n",
    "cv2.waitKey(0)\n",
    "cv2.destroyAllWindows()"
   ]
  },
  {
   "cell_type": "code",
   "execution_count": 57,
   "metadata": {},
   "outputs": [
    {
     "data": {
      "text/plain": [
       "'\\ncv2.imshow(\"\", img)\\ncv2.waitKey(0)\\ncv2.destroyAllWindows()\\n'"
      ]
     },
     "execution_count": 57,
     "metadata": {},
     "output_type": "execute_result"
    }
   ],
   "source": [
    "'''\n",
    "cv2.imshow(\"\", img)\n",
    "cv2.waitKey(0)\n",
    "cv2.destroyAllWindows()\n",
    "'''"
   ]
  },
  {
   "cell_type": "code",
   "execution_count": 58,
   "metadata": {},
   "outputs": [],
   "source": [
    "#相手のポケモンの画像を抽出する関数を作る。\n",
    "def capture_opponent(img):\n",
    "    a,b,c,d = 255, 961, 175, 225\n",
    "    #相手ポケモンの画像だけ抽出\n",
    "    part = img[a:b,c:d]\n",
    "    \n",
    "    #一体ずつポケモンの画像を抽出\n",
    "    poke = []\n",
    "    for i in range(6):\n",
    "        new_poke = part[int((b - a)/6) * i + 20:int((b - a)/6) * (i + 1) - 20]\n",
    "        poke.append(new_poke)\n",
    "    return poke"
   ]
  },
  {
   "cell_type": "code",
   "execution_count": 59,
   "metadata": {},
   "outputs": [
    {
     "data": {
      "text/plain": [
       "'\\n#各ポケモン画像を確認する。\\npoke = capture_opponent(img)\\nfor i in poke:\\n    cv2.imshow(\"\", i)\\n    cv2.waitKey(0)\\n    cv2.destroyAllWindows()\\n\\n'"
      ]
     },
     "execution_count": 59,
     "metadata": {},
     "output_type": "execute_result"
    }
   ],
   "source": [
    "'''\n",
    "#各ポケモン画像を確認する。\n",
    "poke = capture_opponent(img)\n",
    "for i in poke:\n",
    "    cv2.imshow(\"\", i)\n",
    "    cv2.waitKey(0)\n",
    "    cv2.destroyAllWindows()\n",
    "\n",
    "'''"
   ]
  },
  {
   "cell_type": "code",
   "execution_count": 60,
   "metadata": {},
   "outputs": [],
   "source": [
    "#個別ポケモン画像データ(numpy配列)を保存する関数を作る\n",
    "##入力は画像データが入っている（６体分）リスト\n",
    "def save_poke(Img_array):    \n",
    "    ##今日の日付\n",
    "    time_ = str(datetime.datetime.now())\n",
    "    time_ = time_[:19].replace(\":\", \"-\").replace(\" \", \"-\") #ファイル名が保存出来るように調整する。\n",
    "\n",
    "    #ディレクトリを直下の\"poke_images\"に移動する。\n",
    "    os.chdir(r\"C:\\Users\\ara-d\\pokemon_analisis\\poke_images\")\n",
    "    #画像を保存する。\n",
    "    for i in range(len(Img_array)):     \n",
    "        np.save(\n",
    "            \"pokedata\" + \"_\" + time_ + \"_\" + str(i),  # ファイル名\n",
    "            Img_array[i] # 保存したいオブジェクト\n",
    "        )"
   ]
  },
  {
   "cell_type": "code",
   "execution_count": 61,
   "metadata": {},
   "outputs": [
    {
     "data": {
      "text/plain": [
       "[WindowsPath('C:/Users/ara-d/pokemon_analisis/poke_names/poke_names_2021-04-19-18-59-27.npy'),\n",
       " WindowsPath('C:/Users/ara-d/pokemon_analisis/poke_names/poke_names_2021-04-19-20-08-20.npy'),\n",
       " WindowsPath('C:/Users/ara-d/pokemon_analisis/poke_names/poke_names_2021-04-19-21-54-09.npy'),\n",
       " WindowsPath('C:/Users/ara-d/pokemon_analisis/poke_names/poke_names_2021-04-19-22-23-08.npy'),\n",
       " WindowsPath('C:/Users/ara-d/pokemon_analisis/poke_names/poke_names_2021-04-22-00-33-53.npy')]"
      ]
     },
     "execution_count": 61,
     "metadata": {},
     "output_type": "execute_result"
    }
   ],
   "source": [
    "#保存していた名前データを解凍する。\n",
    "##ディレクトリを指定し、ファイル名を取得する。\n",
    "path = r\"C:\\Users\\ara-d\\pokemon_analisis\\poke_names\"\n",
    "dir_ = Path(path)\n",
    "\n",
    "poke_names_FileName = sorted(dir_.glob(\"*.npy\"))\n",
    "##ファイル名を全て表示\n",
    "poke_names_FileName"
   ]
  },
  {
   "cell_type": "code",
   "execution_count": 62,
   "metadata": {},
   "outputs": [
    {
     "data": {
      "text/plain": [
       "array(['ファイヤー', 'サンダー', 'フリーザー', 'ガラルヒヒダルマ', 'カミツルギ', 'パッチラゴン', 'カイリュー',\n",
       "       'カプレヒレ', '霊獣ボルトロス', 'ポリゴン２', 'ミミッキュ', 'ナットレイ', 'ユクシー', 'バクガメス',\n",
       "       'エルレイド', 'ミュウツー', 'ウオノラゴン', 'マホミル', 'ユキハミ', 'メタモン', 'ツチニン',\n",
       "       'ヨクバリス', 'オトスパス', 'ナマコブシ', 'マーシャドー', '黒バドレックス', 'ザシアン', 'カイオーガ',\n",
       "       'イベルタル', 'ギャラドス', 'ブリザポス', 'レジドラゴ', 'カメックス', 'ムゲンダイナ', 'ザマゼンタ',\n",
       "       'キングドラ', 'ニョロトノ', 'ボルトロス', '霊獣ランドロス', 'ザシアン', 'ドラパルト', 'ホウオウ',\n",
       "       'ガオガエン', 'ウオノラゴン', 'ライチュウ', 'ゴリランダー', 'エルフーン', 'エルフーン', 'ザシアン',\n",
       "       'ガオガエン', 'レジエレキ', 'ウーラオス', '霊獣ランドロス', 'ミミッキュ', 'ウーラオス', 'ザシアン',\n",
       "       'ミカルゲ', 'ドラパルト', 'レジギガス', 'ウーラオス', 'カプコケコ', 'ガラルヤドラン', 'サーナイト',\n",
       "       'フシギバナ', 'ドラパルト', 'ブリムオン', 'リザードン', 'ゾロアーク', 'カメックス', 'フシギバナ',\n",
       "       'ホウオウ', 'ディアルガ', 'フシギバナ', 'レジエレキ', 'エルフーン', 'コータス', 'ガオガエン',\n",
       "       'ゼルネアス', 'ルナアーラ', 'ミュウツー', 'ソルガレオ', 'ホウオウ', 'ガラルマッスグマ', 'ギガイアス',\n",
       "       'ミュウツー', 'エルフーン', 'ポットデス', 'カプテテフ', 'メタモン', 'カプコケコ', 'インテレオン',\n",
       "       'ガラルサンダー', 'エースバーン', 'ドラパルト', 'ジガルデ', 'ウーラオス', 'ザシアン', 'サンダー',\n",
       "       'ミミッキュ', 'ヌオー', 'ボルトロス', '白バドレックス', 'ミミッキュ', 'ガオガエン', 'ボルトロス',\n",
       "       'カプレヒレ', 'ウーラオス', 'メタモン', 'ザシアン', 'ミミッキュ', 'ウツロイド', 'エースバーン',\n",
       "       'ゴリランダー', 'ガラルデスマス', 'ガラルダルマッカ', 'リオル', '---', '---', '---',\n",
       "       'ボーマンダ', 'マホイップ', 'サマヨール', 'レントラー', 'ヌオー', 'オーロンゲ', 'ウーラオス',\n",
       "       'ガラルサンダー', 'レジエレキ', 'カバルドン', '黒バドレックス', 'ブラッキー', 'ナットレイ', 'バシャーモ',\n",
       "       'ドリュウズ', 'ギルガルド', 'サザンドラ', 'ミミッキュ', 'リザードン', 'カバルドン', 'カイリュー',\n",
       "       'ミミッキュ', 'ミュウツー', 'ストリンダ―', 'ニンフィア', 'カイリュー', 'ナマコブシ', 'ジャラランガ',\n",
       "       'ガマゲロゲ', 'レジドラゴ', 'ガブリアス', 'テッカグヤ', 'スイクン', 'バシャーモ', 'ボーマンダ',\n",
       "       'ザシアン', 'ポットデス', 'エースバーン', 'レジエレキ', 'アーマーガア', '水ロトム', 'ポリゴン２',\n",
       "       'カメックス', 'イベルタル', 'ゲンガー', 'ボスゴドラ', 'ガラルサニーゴ', 'マッシブーン', 'エースバーン',\n",
       "       'オーロンゲ', 'ザシアン', 'ノコッチ', 'ウーラオス', 'カミツルギ', 'ムーランド', 'シロデスナ',\n",
       "       'ヌメルゴン', 'エースバーン', 'クレベース', 'イベルタル', 'ザシアン', 'サンダー', 'ラプラス',\n",
       "       'ウーラオス', 'エースバーン', 'メタモン', 'パルシェン', 'リザードン', 'キリキザン', 'オノノクス',\n",
       "       'ストリンダ―', 'アマルルガ', 'カイリュー', 'ジバコイル', 'ゴチルゼル', 'ザシアン', 'ラプラス',\n",
       "       'ウーラオス'], dtype='<U8')"
      ]
     },
     "execution_count": 62,
     "metadata": {},
     "output_type": "execute_result"
    }
   ],
   "source": [
    "##名前データを呼び起こす\n",
    "Names = []\n",
    "for i in range(len(poke_names_FileName)):\n",
    "    new = list(np.load(file=str(poke_names_FileName[i])))\n",
    "    ##データを解凍する。\n",
    "    ##一致率を計算する。\n",
    "    Names.extend(new)\n",
    "    \n",
    "#名前データを確認する\n",
    "Names = np.array(Names)\n",
    "Names"
   ]
  },
  {
   "cell_type": "code",
   "execution_count": 63,
   "metadata": {},
   "outputs": [],
   "source": [
    "#二つの画像データの一致率を計算する関数を作る。\n",
    "def calc_accuracy(image1, image2): \n",
    "    A = image1 == image2\n",
    "    A = np.reshape(A, (1,-1))\n",
    "    accuracy = sum(A[0])/len(A[0])\n",
    "    \n",
    "    return accuracy"
   ]
  },
  {
   "cell_type": "code",
   "execution_count": 64,
   "metadata": {},
   "outputs": [],
   "source": [
    "#ポケモン画像を判別し、名前を出力する関数を作る。\n",
    "def judge_poke(input_image, name_data, train_img_path): #入力：（入力画像データ（numpy array)、名前データ（numpy array、一次元)、train dataがある場所）\n",
    "    #ディレクトリを指定\n",
    "    dir_ = Path(train_img_path)\n",
    "    #\".npy\"となっているファイルを列挙する。\n",
    "    poke_images_FileName = sorted(dir_.glob(\"*.npy\"))\n",
    "    \n",
    "    Accuracies = []\n",
    "\n",
    "    #各train dataをチェックし、一致率を計算する。\n",
    "    for i in range(len(poke_images_FileName)):\n",
    "        ##データを解凍する。\n",
    "        poke_image_train = np.load(file=str(poke_images_FileName[i]))\n",
    "        ##一致率を計算する。\n",
    "        accuracy = calc_accuracy(input_image, poke_image_train) \n",
    "        ##一致率を保存する\n",
    "        Accuracies.append(accuracy)\n",
    "        \n",
    "        #もし一致率が100％であればbreak\n",
    "        if accuracy == 1:\n",
    "            break\n",
    "\n",
    "    #print(Accuracies)\n",
    "    #Accuracies最大値のindexを計算\n",
    "    max_index = Accuracies.index(max(Accuracies))\n",
    "\n",
    "    #ポケモンの名前を引き出す\n",
    "    return name_data[max_index], max(Accuracies)"
   ]
  },
  {
   "cell_type": "code",
   "execution_count": 65,
   "metadata": {},
   "outputs": [],
   "source": [
    "battle_limit = 120\n",
    "waiting_limit = 900"
   ]
  },
  {
   "cell_type": "code",
   "execution_count": 66,
   "metadata": {},
   "outputs": [],
   "source": [
    "cv2.imshow(\"\",SelectTime)\n",
    "cv2.waitKey(0)\n",
    "cv2.destroyAllWindows()"
   ]
  },
  {
   "cell_type": "code",
   "execution_count": 67,
   "metadata": {},
   "outputs": [],
   "source": [
    "cv2.imshow(\"\",img[0:80,0:400])\n",
    "cv2.waitKey(0)\n",
    "cv2.destroyAllWindows()"
   ]
  },
  {
   "cell_type": "code",
   "execution_count": 34,
   "metadata": {},
   "outputs": [
    {
     "data": {
      "text/plain": [
       "(80, 400, 4)"
      ]
     },
     "execution_count": 34,
     "metadata": {},
     "output_type": "execute_result"
    }
   ],
   "source": [
    "SelectTime.shape"
   ]
  },
  {
   "cell_type": "code",
   "execution_count": 42,
   "metadata": {},
   "outputs": [
    {
     "data": {
      "text/plain": [
       "0.34271875"
      ]
     },
     "execution_count": 42,
     "metadata": {},
     "output_type": "execute_result"
    }
   ],
   "source": [
    "sum(sum(sum(img[0:80,0:400] == SelectTime))) / (80 * 400 * 4)"
   ]
  },
  {
   "cell_type": "code",
   "execution_count": 31,
   "metadata": {},
   "outputs": [
    {
     "data": {
      "text/plain": [
       "(80, 400, 4)"
      ]
     },
     "execution_count": 31,
     "metadata": {},
     "output_type": "execute_result"
    }
   ],
   "source": [
    "img[0:80,0:400].shape"
   ]
  },
  {
   "cell_type": "code",
   "execution_count": 68,
   "metadata": {
    "scrolled": true
   },
   "outputs": [
    {
     "name": "stderr",
     "output_type": "stream",
     "text": [
      "C:\\Users\\Public\\Documents\\Wondershare\\CreatorTemp/ipykernel_7728/2713382240.py:50: DeprecationWarning: The binary mode of fromstring is deprecated, as it behaves surprisingly on unicode inputs. Use frombuffer instead\n",
      "  img = np.fromstring(bmp.GetBitmapBits(True), np.uint8).reshape(height, width, 4)\n"
     ]
    },
    {
     "name": "stdout",
     "output_type": "stream",
     "text": [
      "Battle Start\n",
      "('ギガイアス', 0.3888961038961039)\n",
      "('ポリゴン２', 0.3717532467532468)\n",
      "('リオル', 0.44422077922077924)\n",
      "('リオル', 0.4666883116883117)\n",
      "('レジエレキ', 0.41805194805194806)\n",
      "('ザシアン', 0.6932467532467532)\n",
      "Battle Time Remain:120\n",
      "Battle Time Remain:90\n",
      "Battle Time Remain:60\n",
      "Battle Time Remain:30\n",
      "Rest was finished. Count starts again.\n",
      "Waiting Time Remain:900\n",
      "Waiting Time Remain:870\n",
      "Waiting Time Remain:840\n",
      "Waiting Time Remain:810\n",
      "Waiting Time Remain:780\n",
      "Waiting Time Remain:750\n",
      "Waiting Time Remain:720\n",
      "Waiting Time Remain:690\n",
      "Waiting Time Remain:660\n",
      "Waiting Time Remain:630\n",
      "Waiting Time Remain:600\n",
      "Waiting Time Remain:570\n",
      "Waiting Time Remain:540\n",
      "Waiting Time Remain:510\n",
      "Waiting Time Remain:480\n",
      "Waiting Time Remain:450\n",
      "Waiting Time Remain:420\n",
      "Waiting Time Remain:390\n",
      "Battle Start\n",
      "('ガラルサニーゴ', 0.5331818181818182)\n"
     ]
    },
    {
     "ename": "KeyboardInterrupt",
     "evalue": "",
     "output_type": "error",
     "traceback": [
      "\u001b[1;31m---------------------------------------------------------------------------\u001b[0m",
      "\u001b[1;31mKeyboardInterrupt\u001b[0m                         Traceback (most recent call last)",
      "\u001b[1;32mC:\\Users\\Public\\Documents\\Wondershare\\CreatorTemp/ipykernel_7728/2577854992.py\u001b[0m in \u001b[0;36m<module>\u001b[1;34m\u001b[0m\n\u001b[0;32m     21\u001b[0m         \u001b[1;31m#ここの部分は判別用\u001b[0m\u001b[1;33m\u001b[0m\u001b[1;33m\u001b[0m\u001b[1;33m\u001b[0m\u001b[0m\n\u001b[0;32m     22\u001b[0m         \u001b[1;32mfor\u001b[0m \u001b[0mindividual_image\u001b[0m \u001b[1;32min\u001b[0m \u001b[0mpoke\u001b[0m\u001b[1;33m:\u001b[0m\u001b[1;33m\u001b[0m\u001b[1;33m\u001b[0m\u001b[0m\n\u001b[1;32m---> 23\u001b[1;33m             \u001b[0mprint\u001b[0m\u001b[1;33m(\u001b[0m\u001b[0mjudge_poke\u001b[0m\u001b[1;33m(\u001b[0m\u001b[0mindividual_image\u001b[0m\u001b[1;33m,\u001b[0m \u001b[0mNames\u001b[0m\u001b[1;33m,\u001b[0m \u001b[0mtrain_img_path\u001b[0m\u001b[1;33m)\u001b[0m\u001b[1;33m)\u001b[0m\u001b[1;33m\u001b[0m\u001b[1;33m\u001b[0m\u001b[0m\n\u001b[0m\u001b[0;32m     24\u001b[0m \u001b[1;33m\u001b[0m\u001b[0m\n\u001b[0;32m     25\u001b[0m         \u001b[1;31m##個別ポケモン画像データを保存する。\u001b[0m\u001b[1;33m\u001b[0m\u001b[1;33m\u001b[0m\u001b[1;33m\u001b[0m\u001b[0m\n",
      "\u001b[1;32mC:\\Users\\Public\\Documents\\Wondershare\\CreatorTemp/ipykernel_7728/74181585.py\u001b[0m in \u001b[0;36mjudge_poke\u001b[1;34m(input_image, name_data, train_img_path)\u001b[0m\n\u001b[0;32m     13\u001b[0m         \u001b[0mpoke_image_train\u001b[0m \u001b[1;33m=\u001b[0m \u001b[0mnp\u001b[0m\u001b[1;33m.\u001b[0m\u001b[0mload\u001b[0m\u001b[1;33m(\u001b[0m\u001b[0mfile\u001b[0m\u001b[1;33m=\u001b[0m\u001b[0mstr\u001b[0m\u001b[1;33m(\u001b[0m\u001b[0mpoke_images_FileName\u001b[0m\u001b[1;33m[\u001b[0m\u001b[0mi\u001b[0m\u001b[1;33m]\u001b[0m\u001b[1;33m)\u001b[0m\u001b[1;33m)\u001b[0m\u001b[1;33m\u001b[0m\u001b[1;33m\u001b[0m\u001b[0m\n\u001b[0;32m     14\u001b[0m         \u001b[1;31m##一致率を計算する。\u001b[0m\u001b[1;33m\u001b[0m\u001b[1;33m\u001b[0m\u001b[1;33m\u001b[0m\u001b[0m\n\u001b[1;32m---> 15\u001b[1;33m         \u001b[0maccuracy\u001b[0m \u001b[1;33m=\u001b[0m \u001b[0mcalc_accuracy\u001b[0m\u001b[1;33m(\u001b[0m\u001b[0minput_image\u001b[0m\u001b[1;33m,\u001b[0m \u001b[0mpoke_image_train\u001b[0m\u001b[1;33m)\u001b[0m\u001b[1;33m\u001b[0m\u001b[1;33m\u001b[0m\u001b[0m\n\u001b[0m\u001b[0;32m     16\u001b[0m         \u001b[1;31m##一致率を保存する\u001b[0m\u001b[1;33m\u001b[0m\u001b[1;33m\u001b[0m\u001b[1;33m\u001b[0m\u001b[0m\n\u001b[0;32m     17\u001b[0m         \u001b[0mAccuracies\u001b[0m\u001b[1;33m.\u001b[0m\u001b[0mappend\u001b[0m\u001b[1;33m(\u001b[0m\u001b[0maccuracy\u001b[0m\u001b[1;33m)\u001b[0m\u001b[1;33m\u001b[0m\u001b[1;33m\u001b[0m\u001b[0m\n",
      "\u001b[1;32mC:\\Users\\Public\\Documents\\Wondershare\\CreatorTemp/ipykernel_7728/3315337401.py\u001b[0m in \u001b[0;36mcalc_accuracy\u001b[1;34m(image1, image2)\u001b[0m\n\u001b[0;32m      3\u001b[0m     \u001b[0mA\u001b[0m \u001b[1;33m=\u001b[0m \u001b[0mimage1\u001b[0m \u001b[1;33m==\u001b[0m \u001b[0mimage2\u001b[0m\u001b[1;33m\u001b[0m\u001b[1;33m\u001b[0m\u001b[0m\n\u001b[0;32m      4\u001b[0m     \u001b[0mA\u001b[0m \u001b[1;33m=\u001b[0m \u001b[0mnp\u001b[0m\u001b[1;33m.\u001b[0m\u001b[0mreshape\u001b[0m\u001b[1;33m(\u001b[0m\u001b[0mA\u001b[0m\u001b[1;33m,\u001b[0m \u001b[1;33m(\u001b[0m\u001b[1;36m1\u001b[0m\u001b[1;33m,\u001b[0m\u001b[1;33m-\u001b[0m\u001b[1;36m1\u001b[0m\u001b[1;33m)\u001b[0m\u001b[1;33m)\u001b[0m\u001b[1;33m\u001b[0m\u001b[1;33m\u001b[0m\u001b[0m\n\u001b[1;32m----> 5\u001b[1;33m     \u001b[0maccuracy\u001b[0m \u001b[1;33m=\u001b[0m \u001b[0msum\u001b[0m\u001b[1;33m(\u001b[0m\u001b[0mA\u001b[0m\u001b[1;33m[\u001b[0m\u001b[1;36m0\u001b[0m\u001b[1;33m]\u001b[0m\u001b[1;33m)\u001b[0m\u001b[1;33m/\u001b[0m\u001b[0mlen\u001b[0m\u001b[1;33m(\u001b[0m\u001b[0mA\u001b[0m\u001b[1;33m[\u001b[0m\u001b[1;36m0\u001b[0m\u001b[1;33m]\u001b[0m\u001b[1;33m)\u001b[0m\u001b[1;33m\u001b[0m\u001b[1;33m\u001b[0m\u001b[0m\n\u001b[0m\u001b[0;32m      6\u001b[0m \u001b[1;33m\u001b[0m\u001b[0m\n\u001b[0;32m      7\u001b[0m     \u001b[1;32mreturn\u001b[0m \u001b[0maccuracy\u001b[0m\u001b[1;33m\u001b[0m\u001b[1;33m\u001b[0m\u001b[0m\n",
      "\u001b[1;31mKeyboardInterrupt\u001b[0m: "
     ]
    }
   ],
   "source": [
    "####################メイン部分#####################\n",
    "####画像を自動でキャプチャ、読み込み画像判別&学習用に保存\n",
    "\n",
    "#trainデータ（画像情報が入ったnumpy array）がある場所を指定する。\n",
    "train_img_path = r\"C:\\Users\\ara-d\\pokemon_analisis\\poke_images_train\"\n",
    "\n",
    "count = 0\n",
    "while True:\n",
    "    #画像をキャプチャする。\n",
    "    img = WindowCapture(\"PotPlayer\") # 部分一致\n",
    "    if sum(sum(sum(img[0:80,0:400] == SelectTime))) / (80 * 400 * 4) >= 0.8:\n",
    "        print(\"Battle Start\")\n",
    "        #画像を出力\n",
    "        #cv2.imshow(\"\", img)\n",
    "        #cv2.waitKey(0)\n",
    "        #cv2.destroyAllWindows()\n",
    "        \n",
    "        #個別のポケモンの画像を抽出する。\n",
    "        poke = capture_opponent(img)\n",
    "        \n",
    "        #ここの部分は判別用\n",
    "        for individual_image in poke:\n",
    "            print(judge_poke(individual_image, Names, train_img_path))\n",
    "        \n",
    "        ##個別ポケモン画像データを保存する。\n",
    "        save_poke(poke)\n",
    "        \n",
    "        count = 0 #カウントをリフレッシュする。\n",
    "        \n",
    "        #対戦時間中(battle_limit中)は休憩\n",
    "        for i in range(battle_limit // 30):\n",
    "            print(\"Battle Time Remain:\" + str(battle_limit - 30 * i)) #30秒毎に警告\n",
    "            time.sleep(30) \n",
    "        else:\n",
    "            print(\"Rest was finished. Count starts again.\")\n",
    "\n",
    "    if count % 30 == 0:\n",
    "        print(\"Waiting Time Remain:\" + str(waiting_limit - count)) #30秒毎に警告\n",
    "    if count >= waiting_limit: #一定時間（待機時間がwaiting_limitを超えたらbreak、放置対策）\n",
    "        break\n",
    "        \n",
    "    #１秒経過させる。\n",
    "    time.sleep(1)        \n",
    "    count += 1"
   ]
  },
  {
   "cell_type": "code",
   "execution_count": 39,
   "metadata": {},
   "outputs": [],
   "source": [
    "tmp = img[0:80,0:400]\n",
    "\n",
    "cv2.imshow(\"\", tmp)\n",
    "cv2.waitKey(0)\n",
    "cv2.destroyAllWindows()"
   ]
  },
  {
   "cell_type": "code",
   "execution_count": 40,
   "metadata": {},
   "outputs": [],
   "source": [
    "SelectTime\n",
    "cv2.imshow(\"\", SelectTime)\n",
    "cv2.waitKey(0)\n",
    "cv2.destroyAllWindows()"
   ]
  },
  {
   "cell_type": "code",
   "execution_count": 41,
   "metadata": {},
   "outputs": [
    {
     "data": {
      "text/plain": [
       "array([[[ True,  True,  True,  True],\n",
       "        [ True,  True,  True,  True],\n",
       "        [ True,  True,  True,  True],\n",
       "        ...,\n",
       "        [ True,  True,  True,  True],\n",
       "        [ True,  True,  True,  True],\n",
       "        [ True,  True,  True,  True]],\n",
       "\n",
       "       [[ True,  True,  True,  True],\n",
       "        [ True,  True,  True,  True],\n",
       "        [ True,  True,  True,  True],\n",
       "        ...,\n",
       "        [ True,  True,  True,  True],\n",
       "        [ True,  True,  True,  True],\n",
       "        [ True,  True,  True,  True]],\n",
       "\n",
       "       [[ True,  True,  True,  True],\n",
       "        [ True,  True,  True,  True],\n",
       "        [ True,  True,  True,  True],\n",
       "        ...,\n",
       "        [ True,  True,  True,  True],\n",
       "        [ True,  True,  True,  True],\n",
       "        [ True,  True,  True,  True]],\n",
       "\n",
       "       ...,\n",
       "\n",
       "       [[ True,  True,  True,  True],\n",
       "        [ True,  True,  True,  True],\n",
       "        [ True,  True,  True,  True],\n",
       "        ...,\n",
       "        [ True,  True,  True,  True],\n",
       "        [ True,  True,  True,  True],\n",
       "        [ True,  True,  True,  True]],\n",
       "\n",
       "       [[ True,  True,  True,  True],\n",
       "        [ True,  True,  True,  True],\n",
       "        [ True,  True,  True,  True],\n",
       "        ...,\n",
       "        [ True,  True,  True,  True],\n",
       "        [ True,  True,  True,  True],\n",
       "        [ True,  True,  True,  True]],\n",
       "\n",
       "       [[ True,  True,  True,  True],\n",
       "        [ True,  True,  True,  True],\n",
       "        [ True,  True,  True,  True],\n",
       "        ...,\n",
       "        [ True,  True,  True,  True],\n",
       "        [ True,  True,  True,  True],\n",
       "        [ True,  True,  True,  True]]])"
      ]
     },
     "execution_count": 41,
     "metadata": {},
     "output_type": "execute_result"
    }
   ],
   "source": [
    "tmp == SelectTime"
   ]
  },
  {
   "cell_type": "code",
   "execution_count": 19,
   "metadata": {},
   "outputs": [
    {
     "ename": "NameError",
     "evalue": "name 'poke' is not defined",
     "output_type": "error",
     "traceback": [
      "\u001b[1;31m---------------------------------------------------------------------------\u001b[0m",
      "\u001b[1;31mNameError\u001b[0m                                 Traceback (most recent call last)",
      "\u001b[1;32m<ipython-input-19-8b73629f61a0>\u001b[0m in \u001b[0;36m<module>\u001b[1;34m\u001b[0m\n\u001b[0;32m      1\u001b[0m \u001b[1;31m#個別ポケモン画像の確認\u001b[0m\u001b[1;33m\u001b[0m\u001b[1;33m\u001b[0m\u001b[1;33m\u001b[0m\u001b[0m\n\u001b[1;32m----> 2\u001b[1;33m \u001b[1;32mfor\u001b[0m \u001b[0mi\u001b[0m \u001b[1;32min\u001b[0m \u001b[0mpoke\u001b[0m\u001b[1;33m:\u001b[0m\u001b[1;33m\u001b[0m\u001b[1;33m\u001b[0m\u001b[0m\n\u001b[0m\u001b[0;32m      3\u001b[0m     \u001b[0mcv2\u001b[0m\u001b[1;33m.\u001b[0m\u001b[0mimshow\u001b[0m\u001b[1;33m(\u001b[0m\u001b[1;34m\"\"\u001b[0m\u001b[1;33m,\u001b[0m\u001b[0mi\u001b[0m\u001b[1;33m)\u001b[0m\u001b[1;33m\u001b[0m\u001b[1;33m\u001b[0m\u001b[0m\n\u001b[0;32m      4\u001b[0m     \u001b[0mcv2\u001b[0m\u001b[1;33m.\u001b[0m\u001b[0mwaitKey\u001b[0m\u001b[1;33m(\u001b[0m\u001b[1;36m0\u001b[0m\u001b[1;33m)\u001b[0m\u001b[1;33m\u001b[0m\u001b[1;33m\u001b[0m\u001b[0m\n\u001b[0;32m      5\u001b[0m     \u001b[0mcv2\u001b[0m\u001b[1;33m.\u001b[0m\u001b[0mdestroyAllWindows\u001b[0m\u001b[1;33m(\u001b[0m\u001b[1;33m)\u001b[0m\u001b[1;33m\u001b[0m\u001b[1;33m\u001b[0m\u001b[0m\n",
      "\u001b[1;31mNameError\u001b[0m: name 'poke' is not defined"
     ]
    }
   ],
   "source": [
    "#個別ポケモン画像の確認\n",
    "for i in poke:\n",
    "    cv2.imshow(\"\",i)\n",
    "    cv2.waitKey(0)\n",
    "    cv2.destroyAllWindows()\n",
    "    \n",
    "    #print(judge_poke(i, Names, train_img_path))"
   ]
  },
  {
   "cell_type": "code",
   "execution_count": null,
   "metadata": {},
   "outputs": [],
   "source": []
  },
  {
   "cell_type": "code",
   "execution_count": 42,
   "metadata": {},
   "outputs": [],
   "source": [
    "###################ポケモンの名前を入力する（学習パ―ト）#############"
   ]
  },
  {
   "cell_type": "code",
   "execution_count": 20,
   "metadata": {},
   "outputs": [
    {
     "data": {
      "text/plain": [
       "[WindowsPath('C:/Users/ara-d/pokemon_analisis/poke_images/pokedata_2021-04-21-15-16-32_0.npy'),\n",
       " WindowsPath('C:/Users/ara-d/pokemon_analisis/poke_images/pokedata_2021-04-21-15-16-32_1.npy'),\n",
       " WindowsPath('C:/Users/ara-d/pokemon_analisis/poke_images/pokedata_2021-04-21-15-16-32_2.npy'),\n",
       " WindowsPath('C:/Users/ara-d/pokemon_analisis/poke_images/pokedata_2021-04-21-15-16-32_3.npy'),\n",
       " WindowsPath('C:/Users/ara-d/pokemon_analisis/poke_images/pokedata_2021-04-21-15-16-32_4.npy'),\n",
       " WindowsPath('C:/Users/ara-d/pokemon_analisis/poke_images/pokedata_2021-04-21-15-16-32_5.npy'),\n",
       " WindowsPath('C:/Users/ara-d/pokemon_analisis/poke_images/pokedata_2021-04-21-15-31-11_0.npy'),\n",
       " WindowsPath('C:/Users/ara-d/pokemon_analisis/poke_images/pokedata_2021-04-21-15-31-11_1.npy'),\n",
       " WindowsPath('C:/Users/ara-d/pokemon_analisis/poke_images/pokedata_2021-04-21-15-31-11_2.npy'),\n",
       " WindowsPath('C:/Users/ara-d/pokemon_analisis/poke_images/pokedata_2021-04-21-15-31-11_3.npy'),\n",
       " WindowsPath('C:/Users/ara-d/pokemon_analisis/poke_images/pokedata_2021-04-21-15-31-11_4.npy'),\n",
       " WindowsPath('C:/Users/ara-d/pokemon_analisis/poke_images/pokedata_2021-04-21-15-31-11_5.npy'),\n",
       " WindowsPath('C:/Users/ara-d/pokemon_analisis/poke_images/pokedata_2021-04-21-15-37-05_0.npy'),\n",
       " WindowsPath('C:/Users/ara-d/pokemon_analisis/poke_images/pokedata_2021-04-21-15-37-05_1.npy'),\n",
       " WindowsPath('C:/Users/ara-d/pokemon_analisis/poke_images/pokedata_2021-04-21-15-37-05_2.npy'),\n",
       " WindowsPath('C:/Users/ara-d/pokemon_analisis/poke_images/pokedata_2021-04-21-15-37-05_3.npy'),\n",
       " WindowsPath('C:/Users/ara-d/pokemon_analisis/poke_images/pokedata_2021-04-21-15-37-05_4.npy'),\n",
       " WindowsPath('C:/Users/ara-d/pokemon_analisis/poke_images/pokedata_2021-04-21-15-37-05_5.npy'),\n",
       " WindowsPath('C:/Users/ara-d/pokemon_analisis/poke_images/pokedata_2021-04-21-15-49-04_0.npy'),\n",
       " WindowsPath('C:/Users/ara-d/pokemon_analisis/poke_images/pokedata_2021-04-21-15-49-04_1.npy'),\n",
       " WindowsPath('C:/Users/ara-d/pokemon_analisis/poke_images/pokedata_2021-04-21-15-49-04_2.npy'),\n",
       " WindowsPath('C:/Users/ara-d/pokemon_analisis/poke_images/pokedata_2021-04-21-15-49-04_3.npy'),\n",
       " WindowsPath('C:/Users/ara-d/pokemon_analisis/poke_images/pokedata_2021-04-21-15-49-04_4.npy'),\n",
       " WindowsPath('C:/Users/ara-d/pokemon_analisis/poke_images/pokedata_2021-04-21-15-49-04_5.npy'),\n",
       " WindowsPath('C:/Users/ara-d/pokemon_analisis/poke_images/pokedata_2021-04-21-23-52-40_0.npy'),\n",
       " WindowsPath('C:/Users/ara-d/pokemon_analisis/poke_images/pokedata_2021-04-21-23-52-40_1.npy'),\n",
       " WindowsPath('C:/Users/ara-d/pokemon_analisis/poke_images/pokedata_2021-04-21-23-52-40_2.npy'),\n",
       " WindowsPath('C:/Users/ara-d/pokemon_analisis/poke_images/pokedata_2021-04-21-23-52-40_3.npy'),\n",
       " WindowsPath('C:/Users/ara-d/pokemon_analisis/poke_images/pokedata_2021-04-21-23-52-40_4.npy'),\n",
       " WindowsPath('C:/Users/ara-d/pokemon_analisis/poke_images/pokedata_2021-04-21-23-52-40_5.npy'),\n",
       " WindowsPath('C:/Users/ara-d/pokemon_analisis/poke_images/pokedata_2021-04-21-23-57-25_0.npy'),\n",
       " WindowsPath('C:/Users/ara-d/pokemon_analisis/poke_images/pokedata_2021-04-21-23-57-25_1.npy'),\n",
       " WindowsPath('C:/Users/ara-d/pokemon_analisis/poke_images/pokedata_2021-04-21-23-57-25_2.npy'),\n",
       " WindowsPath('C:/Users/ara-d/pokemon_analisis/poke_images/pokedata_2021-04-21-23-57-25_3.npy'),\n",
       " WindowsPath('C:/Users/ara-d/pokemon_analisis/poke_images/pokedata_2021-04-21-23-57-25_4.npy'),\n",
       " WindowsPath('C:/Users/ara-d/pokemon_analisis/poke_images/pokedata_2021-04-21-23-57-25_5.npy'),\n",
       " WindowsPath('C:/Users/ara-d/pokemon_analisis/poke_images/pokedata_2021-04-22-00-07-32_0.npy'),\n",
       " WindowsPath('C:/Users/ara-d/pokemon_analisis/poke_images/pokedata_2021-04-22-00-07-32_1.npy'),\n",
       " WindowsPath('C:/Users/ara-d/pokemon_analisis/poke_images/pokedata_2021-04-22-00-07-32_2.npy'),\n",
       " WindowsPath('C:/Users/ara-d/pokemon_analisis/poke_images/pokedata_2021-04-22-00-07-32_3.npy'),\n",
       " WindowsPath('C:/Users/ara-d/pokemon_analisis/poke_images/pokedata_2021-04-22-00-07-32_4.npy'),\n",
       " WindowsPath('C:/Users/ara-d/pokemon_analisis/poke_images/pokedata_2021-04-22-00-07-32_5.npy'),\n",
       " WindowsPath('C:/Users/ara-d/pokemon_analisis/poke_images/pokedata_2021-04-22-00-19-49_0.npy'),\n",
       " WindowsPath('C:/Users/ara-d/pokemon_analisis/poke_images/pokedata_2021-04-22-00-19-49_1.npy'),\n",
       " WindowsPath('C:/Users/ara-d/pokemon_analisis/poke_images/pokedata_2021-04-22-00-19-49_2.npy'),\n",
       " WindowsPath('C:/Users/ara-d/pokemon_analisis/poke_images/pokedata_2021-04-22-00-19-49_3.npy'),\n",
       " WindowsPath('C:/Users/ara-d/pokemon_analisis/poke_images/pokedata_2021-04-22-00-19-49_4.npy'),\n",
       " WindowsPath('C:/Users/ara-d/pokemon_analisis/poke_images/pokedata_2021-04-22-00-19-49_5.npy')]"
      ]
     },
     "execution_count": 20,
     "metadata": {},
     "output_type": "execute_result"
    }
   ],
   "source": [
    "#ここに絶対パスを入力する。(ポケモン画像ファイルの場所)\n",
    "path = r\"C:\\Users\\ara-d\\pokemon_analisis\\poke_images\"\n",
    "dir_ = Path(path)\n",
    "poke_images_FileName = sorted(dir_.glob(\"*.npy\"))\n",
    "\n",
    "poke_images_FileName"
   ]
  },
  {
   "cell_type": "code",
   "execution_count": 21,
   "metadata": {},
   "outputs": [
    {
     "name": "stdout",
     "output_type": "stream",
     "text": [
      "ガブリアス\n",
      "テッカグヤ\n",
      "スイクン\n",
      "バシャーモ\n",
      "ボーマンダ\n",
      "ザシアン\n",
      "ポットデス\n",
      "エースバーン\n",
      "レジエレキ\n",
      "アーマーガア\n",
      "水ロトム\n",
      "ポリゴン２\n",
      "カメックス\n",
      "イベルタル\n",
      "ゲンガー\n",
      "ボスゴドラ\n",
      "ガラルサニーゴ\n",
      "マッシブーン\n",
      "エースバーン\n",
      "オーロンゲ\n",
      "ザシアン\n",
      "ノコッチ\n",
      "ウーラオス\n",
      "カミツルギ\n",
      "ムーランド\n",
      "シロデスナ\n",
      "ヌメルゴン\n",
      "エースバーン\n",
      "クレベース\n",
      "イベルタル\n",
      "ザシアン\n",
      "サンダー\n",
      "ラプラス\n",
      "ウーラオス\n",
      "エースバーン\n",
      "メタモン\n",
      "パルシェン\n",
      "リザードン\n",
      "キリキザン\n",
      "オノノクス\n",
      "ストリンダ―\n",
      "アマルルガ\n",
      "カイリュー\n",
      "ジバコイル\n",
      "ゴチルゼル\n",
      "ザシアン\n",
      "ラプラス\n",
      "ウーラオス\n"
     ]
    },
    {
     "data": {
      "text/plain": [
       "['ガブリアス',\n",
       " 'テッカグヤ',\n",
       " 'スイクン',\n",
       " 'バシャーモ',\n",
       " 'ボーマンダ',\n",
       " 'ザシアン',\n",
       " 'ポットデス',\n",
       " 'エースバーン',\n",
       " 'レジエレキ',\n",
       " 'アーマーガア',\n",
       " '水ロトム',\n",
       " 'ポリゴン２',\n",
       " 'カメックス',\n",
       " 'イベルタル',\n",
       " 'ゲンガー',\n",
       " 'ボスゴドラ',\n",
       " 'ガラルサニーゴ',\n",
       " 'マッシブーン',\n",
       " 'エースバーン',\n",
       " 'オーロンゲ',\n",
       " 'ザシアン',\n",
       " 'ノコッチ',\n",
       " 'ウーラオス',\n",
       " 'カミツルギ',\n",
       " 'ムーランド',\n",
       " 'シロデスナ',\n",
       " 'ヌメルゴン',\n",
       " 'エースバーン',\n",
       " 'クレベース',\n",
       " 'イベルタル',\n",
       " 'ザシアン',\n",
       " 'サンダー',\n",
       " 'ラプラス',\n",
       " 'ウーラオス',\n",
       " 'エースバーン',\n",
       " 'メタモン',\n",
       " 'パルシェン',\n",
       " 'リザードン',\n",
       " 'キリキザン',\n",
       " 'オノノクス',\n",
       " 'ストリンダ―',\n",
       " 'アマルルガ',\n",
       " 'カイリュー',\n",
       " 'ジバコイル',\n",
       " 'ゴチルゼル',\n",
       " 'ザシアン',\n",
       " 'ラプラス',\n",
       " 'ウーラオス']"
      ]
     },
     "execution_count": 21,
     "metadata": {},
     "output_type": "execute_result"
    }
   ],
   "source": [
    "Poke_names = []\n",
    "\n",
    "#保存していた個別ポケモン画像データを解凍し、名前を手動で入力していく。入力し終わったら\"処理済み\"ファイルに移動させておく。\n",
    "for i in range(len(poke_images_FileName)):\n",
    "    poke_image = np.load(file=str(poke_images_FileName[i]))\n",
    "    cv2.imshow(\"\", poke_image)\n",
    "    cv2.waitKey(0)\n",
    "    cv2.destroyAllWindows()\n",
    "    \n",
    "    poke_name = input()\n",
    "    Poke_names.append(poke_name)\n",
    "Poke_names"
   ]
  },
  {
   "cell_type": "code",
   "execution_count": 22,
   "metadata": {},
   "outputs": [],
   "source": [
    "#名前の配列も保存しておく\n",
    "##保存先ディレクトリを変更\n",
    "os.chdir(r\"C:\\Users\\ara-d\\pokemon_analisis\\poke_names\")\n",
    "\n",
    "Poke_names = np.array(Poke_names)\n",
    "\n",
    "time_ = str(datetime.datetime.now())\n",
    "time_ = time_[:19].replace(\":\", \"-\").replace(\" \", \"-\") #ファイル名が保存出来るように調整する。\n",
    "np.save(\n",
    "    \"poke_names\" + \"_\" + time_,  # ファイル名\n",
    "    Poke_names # 保存したいオブジェクト\n",
    ")"
   ]
  },
  {
   "cell_type": "code",
   "execution_count": 114,
   "metadata": {},
   "outputs": [],
   "source": []
  },
  {
   "cell_type": "code",
   "execution_count": null,
   "metadata": {},
   "outputs": [],
   "source": [
    "#以下番外"
   ]
  },
  {
   "cell_type": "code",
   "execution_count": 37,
   "metadata": {},
   "outputs": [],
   "source": [
    "#動画を読み込む\n",
    "import cv2\n",
    "\n",
    "#captureの準備\n",
    "camera = cv2.VideoCapture(r\"C:\\Users\\ara-d\\Videos\\Captures\\Zoom ミーティング 2020-12-15 13-12-01.mp4\")"
   ]
  },
  {
   "cell_type": "code",
   "execution_count": 129,
   "metadata": {},
   "outputs": [
    {
     "name": "stdout",
     "output_type": "stream",
     "text": [
      "0 秒経過\n",
      "1 秒経過\n",
      "2 秒経過\n",
      "3 秒経過\n",
      "4 秒経過\n",
      "5 秒経過\n",
      "6 秒経過\n",
      "7 秒経過\n",
      "8 秒経過\n",
      "9 秒経過\n",
      "10 秒経過\n",
      "11 秒経過\n",
      "12 秒経過\n",
      "13 秒経過\n",
      "14 秒経過\n",
      "15 秒経過\n",
      "16 秒経過\n",
      "17 秒経過\n",
      "18 秒経過\n",
      "19 秒経過\n",
      "20 秒経過\n",
      "21 秒経過\n",
      "22 秒経過\n"
     ]
    },
    {
     "ename": "KeyboardInterrupt",
     "evalue": "",
     "output_type": "error",
     "traceback": [
      "\u001b[1;31m---------------------------------------------------------------------------\u001b[0m",
      "\u001b[1;31mKeyboardInterrupt\u001b[0m                         Traceback (most recent call last)",
      "\u001b[1;32m<ipython-input-129-a9d56d972b56>\u001b[0m in \u001b[0;36m<module>\u001b[1;34m\u001b[0m\n\u001b[0;32m      1\u001b[0m \u001b[1;32mimport\u001b[0m \u001b[0mtime\u001b[0m\u001b[1;33m\u001b[0m\u001b[1;33m\u001b[0m\u001b[0m\n\u001b[0;32m      2\u001b[0m \u001b[1;32mfor\u001b[0m \u001b[0mi\u001b[0m \u001b[1;32min\u001b[0m \u001b[0mrange\u001b[0m\u001b[1;33m(\u001b[0m\u001b[1;36m0\u001b[0m\u001b[1;33m,\u001b[0m \u001b[1;36m100\u001b[0m\u001b[1;33m,\u001b[0m \u001b[1;36m1\u001b[0m\u001b[1;33m)\u001b[0m\u001b[1;33m:\u001b[0m\u001b[1;33m\u001b[0m\u001b[1;33m\u001b[0m\u001b[0m\n\u001b[1;32m----> 3\u001b[1;33m     \u001b[0mtime\u001b[0m\u001b[1;33m.\u001b[0m\u001b[0msleep\u001b[0m\u001b[1;33m(\u001b[0m\u001b[1;36m1\u001b[0m\u001b[1;33m)\u001b[0m\u001b[1;33m\u001b[0m\u001b[1;33m\u001b[0m\u001b[0m\n\u001b[0m\u001b[0;32m      4\u001b[0m     \u001b[0mprint\u001b[0m\u001b[1;33m(\u001b[0m\u001b[0mi\u001b[0m\u001b[1;33m,\u001b[0m \u001b[1;34m\"秒経過\"\u001b[0m\u001b[1;33m)\u001b[0m\u001b[1;33m\u001b[0m\u001b[1;33m\u001b[0m\u001b[0m\n",
      "\u001b[1;31mKeyboardInterrupt\u001b[0m: "
     ]
    }
   ],
   "source": [
    "import time\n",
    "for i in range(0, 100, 1):\n",
    "    time.sleep(1)\n",
    "    print(i, \"秒経過\")"
   ]
  },
  {
   "cell_type": "code",
   "execution_count": null,
   "metadata": {},
   "outputs": [],
   "source": []
  },
  {
   "cell_type": "code",
   "execution_count": 135,
   "metadata": {},
   "outputs": [],
   "source": [
    "###train dataのサイズ変更を行う。(一度だけ)\n",
    "'''\n",
    "train_img_path = r\"C:\\Users\\ara-d\\pokemon_analisis\\poke_images_train\"\n",
    "dir_ = Path(train_img_path)\n",
    "\n",
    "#\".npy\"となっているファイルを列挙する。\n",
    "poke_images_FileName = sorted(dir_.glob(\"*.npy\"))\n",
    "\n",
    "for i in poke_images_FileName:\n",
    "    input_image = np.load(file = str(i))\n",
    "    a = input_image[20: 97,35:85,:]\n",
    "    #cv2.imshow(\"\", a)\n",
    "    #cv2.waitKey(0)\n",
    "    #cv2.destroyAllWindows()\n",
    "    \n",
    "    np.save(\n",
    "        str(i),  # ファイル名\n",
    "        a # 保存したいオブジェクト\n",
    "    )\n",
    "    \n",
    "'''"
   ]
  },
  {
   "cell_type": "code",
   "execution_count": 16,
   "metadata": {},
   "outputs": [
    {
     "data": {
      "text/plain": [
       "[WindowsPath('C:/Users/ara-d/pokemon_analisis/poke_images_train/pokedata_2021-04-18-23-42-12_0.npy'),\n",
       " WindowsPath('C:/Users/ara-d/pokemon_analisis/poke_images_train/pokedata_2021-04-18-23-42-12_1.npy'),\n",
       " WindowsPath('C:/Users/ara-d/pokemon_analisis/poke_images_train/pokedata_2021-04-18-23-42-12_2.npy'),\n",
       " WindowsPath('C:/Users/ara-d/pokemon_analisis/poke_images_train/pokedata_2021-04-18-23-42-12_3.npy'),\n",
       " WindowsPath('C:/Users/ara-d/pokemon_analisis/poke_images_train/pokedata_2021-04-18-23-42-12_4.npy'),\n",
       " WindowsPath('C:/Users/ara-d/pokemon_analisis/poke_images_train/pokedata_2021-04-18-23-42-12_5.npy'),\n",
       " WindowsPath('C:/Users/ara-d/pokemon_analisis/poke_images_train/pokedata_2021-04-18-23-56-23_0.npy'),\n",
       " WindowsPath('C:/Users/ara-d/pokemon_analisis/poke_images_train/pokedata_2021-04-18-23-56-23_1.npy'),\n",
       " WindowsPath('C:/Users/ara-d/pokemon_analisis/poke_images_train/pokedata_2021-04-18-23-56-23_2.npy'),\n",
       " WindowsPath('C:/Users/ara-d/pokemon_analisis/poke_images_train/pokedata_2021-04-18-23-56-23_3.npy'),\n",
       " WindowsPath('C:/Users/ara-d/pokemon_analisis/poke_images_train/pokedata_2021-04-18-23-56-23_4.npy'),\n",
       " WindowsPath('C:/Users/ara-d/pokemon_analisis/poke_images_train/pokedata_2021-04-18-23-56-23_5.npy'),\n",
       " WindowsPath('C:/Users/ara-d/pokemon_analisis/poke_images_train/pokedata_2021-04-19-00-05-19_1.npy'),\n",
       " WindowsPath('C:/Users/ara-d/pokemon_analisis/poke_images_train/pokedata_2021-04-19-00-05-19_2.npy'),\n",
       " WindowsPath('C:/Users/ara-d/pokemon_analisis/poke_images_train/pokedata_2021-04-19-00-05-19_3.npy'),\n",
       " WindowsPath('C:/Users/ara-d/pokemon_analisis/poke_images_train/pokedata_2021-04-19-00-05-19_4.npy'),\n",
       " WindowsPath('C:/Users/ara-d/pokemon_analisis/poke_images_train/pokedata_2021-04-19-00-05-19_5.npy'),\n",
       " WindowsPath('C:/Users/ara-d/pokemon_analisis/poke_images_train/pokedata_2021-04-19-00-11-16_0.npy'),\n",
       " WindowsPath('C:/Users/ara-d/pokemon_analisis/poke_images_train/pokedata_2021-04-19-00-11-16_1.npy'),\n",
       " WindowsPath('C:/Users/ara-d/pokemon_analisis/poke_images_train/pokedata_2021-04-19-00-11-16_2.npy'),\n",
       " WindowsPath('C:/Users/ara-d/pokemon_analisis/poke_images_train/pokedata_2021-04-19-00-11-16_3.npy'),\n",
       " WindowsPath('C:/Users/ara-d/pokemon_analisis/poke_images_train/pokedata_2021-04-19-00-11-16_4.npy'),\n",
       " WindowsPath('C:/Users/ara-d/pokemon_analisis/poke_images_train/pokedata_2021-04-19-00-11-16_5.npy'),\n",
       " WindowsPath('C:/Users/ara-d/pokemon_analisis/poke_images_train/pokedata_2021-04-19-00-19-27_0.npy'),\n",
       " WindowsPath('C:/Users/ara-d/pokemon_analisis/poke_images_train/pokedata_2021-04-19-00-19-27_1.npy'),\n",
       " WindowsPath('C:/Users/ara-d/pokemon_analisis/poke_images_train/pokedata_2021-04-19-00-19-27_2.npy'),\n",
       " WindowsPath('C:/Users/ara-d/pokemon_analisis/poke_images_train/pokedata_2021-04-19-00-19-27_3.npy'),\n",
       " WindowsPath('C:/Users/ara-d/pokemon_analisis/poke_images_train/pokedata_2021-04-19-00-19-27_4.npy'),\n",
       " WindowsPath('C:/Users/ara-d/pokemon_analisis/poke_images_train/pokedata_2021-04-19-00-19-27_5.npy'),\n",
       " WindowsPath('C:/Users/ara-d/pokemon_analisis/poke_images_train/pokedata_2021-04-19-00-22-43_0.npy'),\n",
       " WindowsPath('C:/Users/ara-d/pokemon_analisis/poke_images_train/pokedata_2021-04-19-00-22-43_1.npy'),\n",
       " WindowsPath('C:/Users/ara-d/pokemon_analisis/poke_images_train/pokedata_2021-04-19-00-22-43_2.npy'),\n",
       " WindowsPath('C:/Users/ara-d/pokemon_analisis/poke_images_train/pokedata_2021-04-19-00-22-43_3.npy'),\n",
       " WindowsPath('C:/Users/ara-d/pokemon_analisis/poke_images_train/pokedata_2021-04-19-00-22-43_4.npy'),\n",
       " WindowsPath('C:/Users/ara-d/pokemon_analisis/poke_images_train/pokedata_2021-04-19-00-22-43_5.npy'),\n",
       " WindowsPath('C:/Users/ara-d/pokemon_analisis/poke_images_train/pokedata_2021-04-19-01-28-29_0.npy'),\n",
       " WindowsPath('C:/Users/ara-d/pokemon_analisis/poke_images_train/pokedata_2021-04-19-01-28-29_1.npy'),\n",
       " WindowsPath('C:/Users/ara-d/pokemon_analisis/poke_images_train/pokedata_2021-04-19-01-28-29_2.npy'),\n",
       " WindowsPath('C:/Users/ara-d/pokemon_analisis/poke_images_train/pokedata_2021-04-19-01-28-29_3.npy'),\n",
       " WindowsPath('C:/Users/ara-d/pokemon_analisis/poke_images_train/pokedata_2021-04-19-01-28-29_4.npy'),\n",
       " WindowsPath('C:/Users/ara-d/pokemon_analisis/poke_images_train/pokedata_2021-04-19-01-28-29_5.npy'),\n",
       " WindowsPath('C:/Users/ara-d/pokemon_analisis/poke_images_train/pokedata_2021-04-19-01-45-21_0.npy'),\n",
       " WindowsPath('C:/Users/ara-d/pokemon_analisis/poke_images_train/pokedata_2021-04-19-01-45-21_1.npy'),\n",
       " WindowsPath('C:/Users/ara-d/pokemon_analisis/poke_images_train/pokedata_2021-04-19-01-45-21_2.npy'),\n",
       " WindowsPath('C:/Users/ara-d/pokemon_analisis/poke_images_train/pokedata_2021-04-19-01-45-21_3.npy'),\n",
       " WindowsPath('C:/Users/ara-d/pokemon_analisis/poke_images_train/pokedata_2021-04-19-01-45-21_4.npy'),\n",
       " WindowsPath('C:/Users/ara-d/pokemon_analisis/poke_images_train/pokedata_2021-04-19-01-45-21_5.npy'),\n",
       " WindowsPath('C:/Users/ara-d/pokemon_analisis/poke_images_train/pokedata_2021-04-19-01-52-49_0.npy'),\n",
       " WindowsPath('C:/Users/ara-d/pokemon_analisis/poke_images_train/pokedata_2021-04-19-01-52-49_1.npy'),\n",
       " WindowsPath('C:/Users/ara-d/pokemon_analisis/poke_images_train/pokedata_2021-04-19-01-52-49_2.npy'),\n",
       " WindowsPath('C:/Users/ara-d/pokemon_analisis/poke_images_train/pokedata_2021-04-19-01-52-49_3.npy'),\n",
       " WindowsPath('C:/Users/ara-d/pokemon_analisis/poke_images_train/pokedata_2021-04-19-01-52-49_4.npy'),\n",
       " WindowsPath('C:/Users/ara-d/pokemon_analisis/poke_images_train/pokedata_2021-04-19-01-52-49_5.npy'),\n",
       " WindowsPath('C:/Users/ara-d/pokemon_analisis/poke_images_train/pokedata_2021-04-19-16-02-14_0.npy'),\n",
       " WindowsPath('C:/Users/ara-d/pokemon_analisis/poke_images_train/pokedata_2021-04-19-16-02-14_1.npy'),\n",
       " WindowsPath('C:/Users/ara-d/pokemon_analisis/poke_images_train/pokedata_2021-04-19-16-02-14_2.npy'),\n",
       " WindowsPath('C:/Users/ara-d/pokemon_analisis/poke_images_train/pokedata_2021-04-19-16-02-14_3.npy'),\n",
       " WindowsPath('C:/Users/ara-d/pokemon_analisis/poke_images_train/pokedata_2021-04-19-16-02-14_4.npy'),\n",
       " WindowsPath('C:/Users/ara-d/pokemon_analisis/poke_images_train/pokedata_2021-04-19-16-02-14_5.npy'),\n",
       " WindowsPath('C:/Users/ara-d/pokemon_analisis/poke_images_train/pokedata_2021-04-19-16-19-32_0.npy'),\n",
       " WindowsPath('C:/Users/ara-d/pokemon_analisis/poke_images_train/pokedata_2021-04-19-16-19-32_1.npy'),\n",
       " WindowsPath('C:/Users/ara-d/pokemon_analisis/poke_images_train/pokedata_2021-04-19-16-19-32_2.npy'),\n",
       " WindowsPath('C:/Users/ara-d/pokemon_analisis/poke_images_train/pokedata_2021-04-19-16-19-32_3.npy'),\n",
       " WindowsPath('C:/Users/ara-d/pokemon_analisis/poke_images_train/pokedata_2021-04-19-16-19-32_4.npy'),\n",
       " WindowsPath('C:/Users/ara-d/pokemon_analisis/poke_images_train/pokedata_2021-04-19-16-19-32_5.npy'),\n",
       " WindowsPath('C:/Users/ara-d/pokemon_analisis/poke_images_train/pokedata_2021-04-19-16-33-15_0.npy'),\n",
       " WindowsPath('C:/Users/ara-d/pokemon_analisis/poke_images_train/pokedata_2021-04-19-16-33-15_1.npy'),\n",
       " WindowsPath('C:/Users/ara-d/pokemon_analisis/poke_images_train/pokedata_2021-04-19-16-33-15_2.npy'),\n",
       " WindowsPath('C:/Users/ara-d/pokemon_analisis/poke_images_train/pokedata_2021-04-19-16-33-15_3.npy'),\n",
       " WindowsPath('C:/Users/ara-d/pokemon_analisis/poke_images_train/pokedata_2021-04-19-16-33-15_4.npy'),\n",
       " WindowsPath('C:/Users/ara-d/pokemon_analisis/poke_images_train/pokedata_2021-04-19-16-33-15_5.npy'),\n",
       " WindowsPath('C:/Users/ara-d/pokemon_analisis/poke_images_train/pokedata_2021-04-19-17-17-20_0.npy'),\n",
       " WindowsPath('C:/Users/ara-d/pokemon_analisis/poke_images_train/pokedata_2021-04-19-17-17-20_1.npy'),\n",
       " WindowsPath('C:/Users/ara-d/pokemon_analisis/poke_images_train/pokedata_2021-04-19-17-17-20_2.npy'),\n",
       " WindowsPath('C:/Users/ara-d/pokemon_analisis/poke_images_train/pokedata_2021-04-19-17-17-20_3.npy'),\n",
       " WindowsPath('C:/Users/ara-d/pokemon_analisis/poke_images_train/pokedata_2021-04-19-17-17-20_4.npy'),\n",
       " WindowsPath('C:/Users/ara-d/pokemon_analisis/poke_images_train/pokedata_2021-04-19-17-17-20_5.npy'),\n",
       " WindowsPath('C:/Users/ara-d/pokemon_analisis/poke_images_train/pokedata_2021-04-19-17-56-34_0.npy'),\n",
       " WindowsPath('C:/Users/ara-d/pokemon_analisis/poke_images_train/pokedata_2021-04-19-17-56-34_1.npy'),\n",
       " WindowsPath('C:/Users/ara-d/pokemon_analisis/poke_images_train/pokedata_2021-04-19-17-56-34_2.npy'),\n",
       " WindowsPath('C:/Users/ara-d/pokemon_analisis/poke_images_train/pokedata_2021-04-19-17-56-34_3.npy'),\n",
       " WindowsPath('C:/Users/ara-d/pokemon_analisis/poke_images_train/pokedata_2021-04-19-17-56-34_4.npy'),\n",
       " WindowsPath('C:/Users/ara-d/pokemon_analisis/poke_images_train/pokedata_2021-04-19-17-56-34_5.npy')]"
      ]
     },
     "execution_count": 16,
     "metadata": {},
     "output_type": "execute_result"
    }
   ],
   "source": [
    "dir_ = Path(r\"C:\\Users\\ara-d\\pokemon_analisis\\poke_images_train\")\n",
    "#\".npy\"となっているファイルを列挙する。\n",
    "poke_images_FileName = sorted(dir_.glob(\"*.npy\"))\n",
    "\n",
    "poke_images_FileName"
   ]
  },
  {
   "cell_type": "code",
   "execution_count": 50,
   "metadata": {},
   "outputs": [],
   "source": [
    "for i in poke_images_FileName:\n",
    "    input_image = np.load(file = str(i))\n",
    "    cv2.imshow(\"\", input_image)\n",
    "    cv2.waitKey(0)\n",
    "    cv2.destroyAllWindows()"
   ]
  }
 ],
 "metadata": {
  "kernelspec": {
   "display_name": "Python 3 (ipykernel)",
   "language": "python",
   "name": "python3"
  },
  "language_info": {
   "codemirror_mode": {
    "name": "ipython",
    "version": 3
   },
   "file_extension": ".py",
   "mimetype": "text/x-python",
   "name": "python",
   "nbconvert_exporter": "python",
   "pygments_lexer": "ipython3",
   "version": "3.8.8"
  }
 },
 "nbformat": 4,
 "nbformat_minor": 4
}
